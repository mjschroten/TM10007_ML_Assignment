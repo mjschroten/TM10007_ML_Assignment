{
  "cells": [
    {
      "cell_type": "markdown",
      "metadata": {
        "id": "7SXpaKwwGe5x"
      },
      "source": [
        "# TM10007 Assignment template -- ECG data"
      ]
    },
    {
      "cell_type": "markdown",
      "metadata": {
        "id": "8_VsRlKukSmc"
      },
      "source": [
        "## Data loading and cleaning\n",
        "\n",
        "Below are functions to load the dataset of your choice. After that, it is all up to you to create and evaluate a classification method. Beware, there may be missing values in these datasets. Good luck!"
      ]
    },
    {
      "cell_type": "markdown",
      "source": [
        "Imports"
      ],
      "metadata": {
        "id": "lK44S6bKvDvN"
      }
    },
    {
      "cell_type": "code",
      "source": [
        "## Imports\n",
        "import zipfile\n",
        "import os\n",
        "import pandas as pd\n",
        "import numpy as np\n",
        "import time\n",
        "\n",
        "from sklearn.preprocessing import StandardScaler, MinMaxScaler\n",
        "\n",
        "import matplotlib.pyplot as plt\n",
        "import seaborn as sns\n",
        "from sklearn.model_selection import train_test_split, KFold, StratifiedKFold, GridSearchCV\n",
        "\n",
        "from sklearn.feature_selection import f_classif, SelectKBest\n",
        "from sklearn.decomposition import PCA\n",
        "from sklearn.manifold import TSNE\n",
        "from sklearn import metrics\n",
        "from sklearn.feature_selection import SequentialFeatureSelector\n",
        "from sklearn.linear_model import LogisticRegression\n",
        "from sklearn.metrics import accuracy_score\n",
        "\n",
        "## Classifiers\n",
        "from sklearn.discriminant_analysis import LinearDiscriminantAnalysis\n",
        "from sklearn.discriminant_analysis import QuadraticDiscriminantAnalysis\n",
        "from sklearn.linear_model import SGDClassifier\n",
        "from sklearn.naive_bayes import GaussianNB\n",
        "from sklearn.ensemble import RandomForestClassifier\n",
        "from sklearn.tree import DecisionTreeClassifier\n",
        "from sklearn.neighbors import KNeighborsClassifier\n",
        "from sklearn.preprocessing import StandardScaler\n",
        "from sklearn.model_selection import learning_curve\n",
        "#from sklearn import svm\n",
        "from sklearn.svm import SVC\n",
        "from xgboost import XGBClassifier\n",
        "\n",
        "## Ensembling\n",
        "from sklearn.ensemble import BaggingClassifier\n",
        "from sklearn.ensemble import VotingClassifier\n",
        "from sklearn.ensemble import StackingClassifier\n",
        "from sklearn.base import BaseEstimator, ClassifierMixin"
      ],
      "metadata": {
        "id": "hWbJd3An9_NV"
      },
      "execution_count": 43,
      "outputs": []
    },
    {
      "cell_type": "code",
      "execution_count": 44,
      "metadata": {
        "id": "CiDn2Sk-VWqE",
        "colab": {
          "base_uri": "https://localhost:8080/"
        },
        "outputId": "b8b87fd6-db0e-4d8e-8530-c895a2731afd"
      },
      "outputs": [
        {
          "output_type": "stream",
          "name": "stdout",
          "text": [
            "fatal: destination path 'tm10007_ml' already exists and is not an empty directory.\n",
            "The number of samples: 827\n",
            "The number of columns: 9001\n"
          ]
        }
      ],
      "source": [
        "# Run this to use from colab environment\n",
        "!git clone https://github.com/jveenland/tm10007_ml.git\n",
        "\n",
        "import zipfile\n",
        "import os\n",
        "import pandas as pd\n",
        "\n",
        "with zipfile.ZipFile('/content/tm10007_ml/ecg/ecg_data.zip', 'r') as zip_ref:\n",
        "    zip_ref.extractall('/content/tm10007_ml/ecg')\n",
        "\n",
        "data = pd.read_csv('/content/tm10007_ml/ecg/ecg_data.csv', index_col=0)\n",
        "\n",
        "print(f'The number of samples: {len(data.index)}')\n",
        "print(f'The number of columns: {len(data.columns)}')\n",
        "\n"
      ]
    },
    {
      "cell_type": "markdown",
      "source": [
        "**Pre-processing**"
      ],
      "metadata": {
        "id": "zU0UNSLR9c0l"
      }
    },
    {
      "cell_type": "markdown",
      "source": [
        "Separate labels"
      ],
      "metadata": {
        "id": "fRGWMzvjmWXb"
      }
    },
    {
      "cell_type": "code",
      "source": [
        "# Data has a 'label' column indicating the class\n",
        "label = data['label']\n",
        "\n",
        "# Separate data based on the label\n",
        "if sum(data['label']) > len(data) / 2:\n",
        "    normal_data = data[label == 0]\n",
        "    abnormal_data = data[label == 1]\n",
        "else:\n",
        "    normal_data = data[label == 1]\n",
        "    abnormal_data = data[label == 0]\n",
        "\n",
        "# Create data without the labels\n",
        "data_no_label = data.drop('label', axis=1)  # All features"
      ],
      "metadata": {
        "id": "AjjHQexaEFDq"
      },
      "execution_count": 45,
      "outputs": []
    },
    {
      "cell_type": "markdown",
      "source": [
        "Missing data handling"
      ],
      "metadata": {
        "id": "5s9S-RYWmWIt"
      }
    },
    {
      "cell_type": "code",
      "source": [
        "##### Check for missing data\n",
        "# Check for any None values in data\n",
        "has_missing = data.isnull().values.any()\n",
        "print(f\"Missing values present? {has_missing}\")\n",
        "\n",
        "# Check for any zeros in data\n",
        "has_zeros = (data_no_label == 0).values.any()\n",
        "print(f\"Zero values present? {has_zeros}\")\n",
        "\n",
        "# Calculate total number of zeros\n",
        "total_zeros = (data_no_label == 0).sum().sum()\n",
        "print(f\"Total zeros in DataFrame: {total_zeros}\")\n",
        "\n",
        "##### Overview of where zeros are to decide missing data handling strategy\n",
        "# Count how many rows have at least one zero\n",
        "rows_with_zero = (data_no_label == 0).any(axis=1).sum()\n",
        "print(f\"Number of rows with at least one zero: {rows_with_zero}\")\n",
        "\n",
        "# Count how many columns have at least one zero\n",
        "columns_with_zero = (data_no_label == 0).any(axis=0).sum()\n",
        "print(f\"Number of columns with at least one zero: {columns_with_zero}\")\n",
        "\n",
        "# Create table with zero count for the rows\n",
        "zero_counts_per_row = (data_no_label == 0).sum(axis=1)\n",
        "zero_count_table = pd.DataFrame({'Row_Index': data_no_label.index, 'Zero_Count': zero_counts_per_row})\n",
        "zero_count_table.set_index('Row_Index', inplace=True)\n",
        "\n",
        "# Create table with zero count for the columns\n",
        "zero_counts_per_column = (data_no_label == 0).sum(axis=0)\n",
        "zero_count_table = pd.DataFrame({'Column_Name': zero_counts_per_column.index, 'Zero_Count': zero_counts_per_column.values})\n",
        "zero_count_table.set_index('Column_Name', inplace=True)\n",
        "\n",
        "##### Remove missing data\n",
        "# Remove rows with more than 10 zeros\n",
        "zero_counts_per_row = (data_no_label == 0).sum(axis=1)\n",
        "rows_to_keep = zero_counts_per_row[zero_counts_per_row <= 10].index\n",
        "filtered_data = data_no_label.loc[rows_to_keep]\n",
        "filtered_label = label.loc[rows_to_keep]\n",
        "\n",
        "# Print removed rows with zeros\n",
        "data_with_zeros = data_no_label[(data_no_label == 0).any(axis=1)]\n",
        "zero_counts_per_row = (data_with_zeros == 0).sum(axis=1)\n",
        "#print(zero_counts_per_row)\n",
        "\n",
        "# Check if all rows with zeros are removed\n",
        "rows_with_zero = (filtered_data == 0).any(axis=1).sum()\n",
        "print(f\"Number of rows with at least one zero (filtered data): {rows_with_zero}\")\n",
        "\n",
        "# Calculate total number of zeros to make sure all are removed from the whole dataframe\n",
        "total_zeros = (filtered_data == 0).sum().sum()\n",
        "print(f\"Total zeros in the DataFrame (excluding last column) after removing rows with zeros: {total_zeros}\")"
      ],
      "metadata": {
        "id": "G-phISsk9dJA",
        "outputId": "ba78b551-a9ee-4fd3-c818-dccec22f9cbe",
        "colab": {
          "base_uri": "https://localhost:8080/"
        }
      },
      "execution_count": 46,
      "outputs": [
        {
          "output_type": "stream",
          "name": "stdout",
          "text": [
            "Missing values present? False\n",
            "Zero values present? True\n",
            "Total zeros in DataFrame: 10500\n",
            "Number of rows with at least one zero: 14\n",
            "Number of columns with at least one zero: 4500\n",
            "Number of rows with at least one zero (filtered data): 0\n",
            "Total zeros in the DataFrame (excluding last column) after removing rows with zeros: 0\n"
          ]
        }
      ]
    },
    {
      "cell_type": "markdown",
      "source": [
        "Train and test data"
      ],
      "metadata": {
        "id": "RtmLVi359L4h"
      }
    },
    {
      "cell_type": "code",
      "source": [
        "# Split the data into training and testing set (for final evaluation als dit nodig is)\n",
        "data_train, data_test, label_train, label_test = train_test_split(filtered_data, filtered_label, test_size=0.2, random_state=42, stratify=filtered_label)\n",
        "\n",
        "# Define K-fold cross-validation\n",
        "n_folds = 2\n",
        "cv = StratifiedKFold(n_splits=n_folds, shuffle=True, random_state=42)"
      ],
      "metadata": {
        "id": "V6pFCX3R9Mol"
      },
      "execution_count": 47,
      "outputs": []
    },
    {
      "cell_type": "markdown",
      "source": [
        "Scaling: normalisation or standardisation"
      ],
      "metadata": {
        "id": "mL1Yg6Mz9n14"
      }
    },
    {
      "cell_type": "code",
      "source": [
        "# Standardization\n",
        "scaler = StandardScaler()\n",
        "data_standardized = scaler.fit_transform(data_train)\n",
        "data_standardized = pd.DataFrame(data_standardized, columns=data_train.columns, index=data_train.index)  # Convert back to DataFrame\n",
        "\n",
        "# Normalization\n",
        "scaler_minmax = MinMaxScaler()\n",
        "data_normalized_minmax = scaler.fit_transform(data_train)\n",
        "data_normalized_minmax = pd.DataFrame(data_normalized_minmax, columns=data_train.columns, index=data_train.index)  # Convert back to DataFrame\n",
        "\n",
        "# Decide to use standardization or normalization, based on performance metrics (accuracy, precision, recall)\n",
        "# For now start with standardization --> default choice"
      ],
      "metadata": {
        "id": "Y5gQVA3x9umI"
      },
      "execution_count": 48,
      "outputs": []
    },
    {
      "cell_type": "markdown",
      "source": [
        "**Feature selection and extraction**"
      ],
      "metadata": {
        "id": "c3NGZOr1usBb"
      }
    },
    {
      "cell_type": "code",
      "source": [
        "# 1. Preliminary filtering using univariate statistical testing: ANOVA f-test\n",
        "selector = SelectKBest(f_classif, k=1000) # Select top 1000 features\n",
        "data_selected = selector.fit_transform(data_train, label_train) # Fit to the training data\n",
        "\n",
        "# Get the names of the top 1000 features\n",
        "selected_feature_indices = selector.get_support(indices=True)  # Get indices of selected features\n",
        "selected_feature_names = data_train.columns[selector.get_support()] # Data is pandas dataframe\n",
        "\n",
        "# Dataframe with selected features for training data\n",
        "data_selected = pd.DataFrame(data_selected, columns=selected_feature_names, index=data_train.index)\n",
        "\n",
        "print('Univariatiate statistical feature selection performed: 1000 features left.')\n",
        "\n",
        "# 2. Dimensionality reduction using PCA\n",
        "pca = PCA(n_components=100)  # Reduce to 100 features\n",
        "data_pca_selected = pca.fit_transform(data_selected) # Fit to the training data\n",
        "\n",
        "# Dataframe with PCA-transformed features for training data\n",
        "data_pca_selected = pd.DataFrame(data_pca_selected, index=data_selected.index)\n",
        "\n",
        "print('PCA feature selection performed: 100 features left.')\n",
        "\n",
        "# 3. Visualize new features with t-SNE\n",
        "tsne = TSNE(n_components=2, random_state=42) # Reduce to 2 dimensions for plotting\n",
        "data_tsne = tsne.fit_transform(data_pca_selected)\n",
        "\n",
        "# Create a scatter plot\n",
        "#plt.figure(figsize=(8, 6))\n",
        "#plt.scatter(data_tsne[label_train == 0, 0], data_tsne[label_train == 0, 1], label='Label 0', marker='o')  # Plot points for label 0\n",
        "#plt.scatter(data_tsne[label_train == 1, 0], data_tsne[label_train == 1, 1], label='Label 1', marker='x')  # Plot points for label 1\n",
        "#plt.legend()  # Add a legend to identify the labels\n",
        "#plt.title('t-SNE Visualization of Selected Features')\n",
        "#plt.xlabel('t-SNE Dimension 1')\n",
        "#plt.ylabel('t-SNE Dimension 2')\n",
        "#plt.show()"
      ],
      "metadata": {
        "id": "6H6QYLK0up7W",
        "colab": {
          "base_uri": "https://localhost:8080/"
        },
        "outputId": "dee1d211-40a8-4101-be26-64311deae5db"
      },
      "execution_count": 49,
      "outputs": [
        {
          "output_type": "stream",
          "name": "stdout",
          "text": [
            "Univariatiate statistical feature selection performed: 1000 features left.\n",
            "PCA feature selection performed: 100 features left.\n"
          ]
        }
      ]
    },
    {
      "cell_type": "markdown",
      "source": [
        "# **Classify**"
      ],
      "metadata": {
        "id": "WTYzsg0xSUfW"
      }
    },
    {
      "cell_type": "code",
      "source": [
        "\n",
        "classifiers = {\n",
        "    \"LinearDiscriminantAnalysis\": LinearDiscriminantAnalysis(),\n",
        "    \"QuadraticDiscriminantAnalysis\": QuadraticDiscriminantAnalysis(),\n",
        "    \"LogisticRegression\": LogisticRegression(),\n",
        "    \"GaussianNB\": GaussianNB(),\n",
        "    \"SGDClassifier\": SGDClassifier(),\n",
        "    \"KNeighborsClassifier\": KNeighborsClassifier(),\n",
        "    \"DecisionTreeClassifier\": DecisionTreeClassifier(),\n",
        "    \"SVC\": SVC(),\n",
        "    \"RandomForestClassifier\": RandomForestClassifier(),\n",
        "}\n",
        "\n",
        "auc_scores = {}\n",
        "f1_scores = {}\n",
        "acc_scores = {}\n",
        "fig, axes = plt.subplots(1, len(classifiers), figsize=(20, 5))\n",
        "\n",
        "i=0\n",
        "\n",
        "for train_index, val_index in cv.split(data_train, label_train):\n",
        "    # split data into train and validation for this fold\n",
        "    X_train, X_val = data_train.iloc[train_index], data_train.iloc[val_index]\n",
        "    y_train, y_val = label_train.iloc[train_index], label_train.iloc[val_index]\n",
        "\n",
        "    # scaling\n",
        "    X_train_scaled = scaler.fit_transform(X_train)\n",
        "    X_val_scaled = scaler.transform(X_val)\n",
        "\n",
        "    # feature selection\n",
        "    # univariate statistical selection\n",
        "    X_train_selected = selector.fit_transform(X_train_scaled, y_train)\n",
        "    X_val_selected = selector.transform(X_val_scaled)\n",
        "\n",
        "    # PCA\n",
        "    pca.fit(X_train_selected, y_train)\n",
        "    X_train_final_selected = pca.transform(X_train_selected)\n",
        "    X_val_final_selected = pca.transform(X_val_selected)\n",
        "\n",
        "    for clf_name,clf in classifiers.items():\n",
        "      auc_scores[clf_name] = []\n",
        "      f1_scores[clf_name] = []\n",
        "      acc_scores[clf_name] = []\n",
        "\n",
        "      # train the classifier on the selected features\n",
        "      clf.fit(X_train_final_selected, y_train)\n",
        "\n",
        "      # Calculate accuracy for this classifier\n",
        "      y_pred = clf.predict(X_val_final_selected)\n",
        "      acc = accuracy_score(y_val, y_pred)\n",
        "      acc_scores[clf_name].append(acc)\n",
        "\n",
        "      # Calculate AUC for this classifier\n",
        "      if hasattr(clf, \"predict_proba\"):\n",
        "        y_score = clf.predict_proba(X_val_final_selected)[:, 1]\n",
        "        auc = metrics.roc_auc_score(y_val, y_score)\n",
        "      else:\n",
        "            try:\n",
        "                y_score = clf.decision_function(X_val_final_selected)\n",
        "                auc = metrics.roc_auc_score(y_val, y_score)\n",
        "            except AttributeError:\n",
        "                y_score = y_pred\n",
        "                auc = metrics.roc_auc_score(y_val, y_score)\n",
        "\n",
        "      auc_scores[clf_name].append(auc)  # Store AUC for this classifier\n",
        "\n",
        "      # Calculate F1-score for this classifier\n",
        "      f1 = metrics.f1_score(y_val, y_pred)\n",
        "      f1_scores[clf_name].append(f1)  # Store F1-score for this classifier\n",
        "\n",
        "for clf_name in classifiers:\n",
        "    avg_auc = np.mean(auc_scores[clf_name])\n",
        "    avg_f1 = np.mean(f1_scores[clf_name])\n",
        "    avg_acc = np.mean(acc_scores[clf_name])\n",
        "    print(f\"Classifier: {clf_name}\")\n",
        "    print(f\"Average AUC: {avg_auc}\")\n",
        "    print(f\"Average F1-score: {avg_f1}\")\n",
        "    print(f\"Average Accuracy: {avg_acc}\")\n",
        "\n",
        "    # Learning curve plotting\n",
        "    axes[i].set_title(clf_name)\n",
        "    axes[i].set_ylim(0.3, 1.01)  # Adjust ylim as needed\n",
        "    axes[i].set_xlabel(\"Training examples\")\n",
        "    axes[i].set_ylabel(\"Score\")\n",
        "\n",
        "    train_sizes, train_scores, val_scores = \\\n",
        "      learning_curve(clf, X_train_final_selected, y_train,\n",
        "                      cv=cv,n_jobs=4, train_sizes=np.linspace(0.1, 1.0, 5))\n",
        "\n",
        "    train_scores_mean = np.mean(train_scores, axis=1)\n",
        "    train_scores_std = np.std(train_scores, axis=1)\n",
        "    val_scores_mean = np.mean(val_scores, axis=1)\n",
        "    val_scores_std = np.std(val_scores, axis=1)\n",
        "\n",
        "    axes[i].grid()\n",
        "    axes[i].fill_between(train_sizes,train_scores_mean - train_scores_std,\n",
        "                        train_scores_mean + train_scores_std,alpha=0.1,color=\"r\")\n",
        "    axes[i].fill_between(train_sizes,val_scores_mean - val_scores_std,val_scores_mean + val_scores_std,alpha=0.1,color=\"g\")\n",
        "    axes[i].plot(train_sizes, train_scores_mean, \"o-\", color=\"r\", label=\"Training score\")\n",
        "    axes[i].plot(train_sizes, val_scores_mean, \"o-\", color=\"g\",\n",
        "                label=\"Cross-validation score\")\n",
        "    axes[i].legend(loc=\"best\")\n",
        "\n",
        "    i += 1\n",
        "\n",
        "#def plot_learning_curve(estimator, title, X, y, axes, ylim=None, cv=None,\n",
        "#                         n_jobs=None, train_sizes=np.linspace(.1, 1.0, 5)):\n",
        "#  axes.set_title(title)\n",
        "#     if ylim is not None:\n",
        "#         axes.set_ylim(*ylim)\n",
        "#     axes.set_xlabel(\"Training examples\")\n",
        "#     axes.set_ylabel(\"Score\")\n",
        "\n",
        "#     train_sizes, train_scores, test_scores  = \\\n",
        "#         learning_curve(estimator, X, y, cv=cv, n_jobs=n_jobs,\n",
        "#                        train_sizes=train_sizes)\n",
        "#     train_scores_mean = np.mean(train_scores, axis=1)\n",
        "#     train_scores_std = np.std(train_scores, axis=1)\n",
        "#     test_scores_mean = np.mean(test_scores, axis=1)\n",
        "#     test_scores_std = np.std(test_scores, axis=1)\n",
        "\n",
        "#     # Plot learning curve\n",
        "#     axes.grid()\n",
        "#     axes.fill_between(train_sizes, train_scores_mean - train_scores_std,\n",
        "#                          train_scores_mean + train_scores_std, alpha=0.1,\n",
        "#                          color=\"r\")\n",
        "#     axes.fill_between(train_sizes, test_scores_mean - test_scores_std,\n",
        "#                          test_scores_mean + test_scores_std, alpha=0.1,\n",
        "#                          color=\"g\")\n",
        "#     axes.plot(train_sizes, train_scores_mean, 'o-', color=\"r\",\n",
        "#                  label=\"Training score\")\n",
        "#     axes.plot(train_sizes, test_scores_mean, 'o-', color=\"g\",\n",
        "#                  label=\"Cross-validation score\")\n",
        "#     axes.legend(loc=\"best\")\n",
        "\n",
        "#     return plt\n",
        "\n",
        "# # First make plot without classifiers:\n",
        "# num = 0\n",
        "# fig = plt.figure(figsize=(24,8*len(clsfs)))\n",
        "# for X, Y in zip(Xs, Ys):\n",
        "#     ax = fig.add_subplot(7, 3, num + 1)\n",
        "#     ax.scatter(X[:, 0], X[:, 1], marker='o', c=Y,\n",
        "#         s=25, edgecolor='k', cmap=plt.cm.Paired)\n",
        "#     num += 1\n",
        "\n",
        "\n",
        "# # Create a cross-validation object\n",
        "# cv = ShuffleSplit(n_splits=10, test_size=0.2, random_state=0)\n",
        "\n",
        "# # Now use the classifiers on all datasets\n",
        "# for clf in clsfs:\n",
        "#     for X, Y in zip(Xs, Ys):\n",
        "#         # Split data in training and testing\n",
        "#         title = str(type(clf))\n",
        "#         ax = fig.add_subplot(7, 3, num + 1)\n",
        "#         plot_learning_curve(clf, title, X, Y, ax, ylim=(0.3, 1.01), cv=cv)\n",
        "#         num += 1\n"
      ],
      "metadata": {
        "id": "Poyhw0Vy-v28",
        "outputId": "023f813e-09f6-4c95-fa73-aa5e7fdadf31",
        "colab": {
          "base_uri": "https://localhost:8080/",
          "height": 1000
        }
      },
      "execution_count": 50,
      "outputs": [
        {
          "output_type": "stream",
          "name": "stderr",
          "text": [
            "/usr/local/lib/python3.11/dist-packages/sklearn/discriminant_analysis.py:1024: LinAlgWarning: The covariance matrix of class 1 is not full rank. Increasing the value of parameter `reg_param` might help reducing the collinearity.\n",
            "  warnings.warn(\n",
            "/usr/local/lib/python3.11/dist-packages/sklearn/linear_model/_logistic.py:465: ConvergenceWarning: lbfgs failed to converge (status=1):\n",
            "STOP: TOTAL NO. of ITERATIONS REACHED LIMIT.\n",
            "\n",
            "Increase the number of iterations (max_iter) or scale the data as shown in:\n",
            "    https://scikit-learn.org/stable/modules/preprocessing.html\n",
            "Please also refer to the documentation for alternative solver options:\n",
            "    https://scikit-learn.org/stable/modules/linear_model.html#logistic-regression\n",
            "  n_iter_i = _check_optimize_result(\n",
            "/usr/local/lib/python3.11/dist-packages/sklearn/discriminant_analysis.py:1024: LinAlgWarning: The covariance matrix of class 1 is not full rank. Increasing the value of parameter `reg_param` might help reducing the collinearity.\n",
            "  warnings.warn(\n"
          ]
        },
        {
          "output_type": "stream",
          "name": "stdout",
          "text": [
            "Classifier: LinearDiscriminantAnalysis\n",
            "Average AUC: 0.7177926158680282\n",
            "Average F1-score: 0.3838383838383838\n",
            "Average Accuracy: 0.8123076923076923\n",
            "Classifier: QuadraticDiscriminantAnalysis\n",
            "Average AUC: 0.5\n",
            "Average F1-score: 0.0\n",
            "Average Accuracy: 0.8246153846153846\n",
            "Classifier: LogisticRegression\n",
            "Average AUC: 0.7176616915422885\n",
            "Average F1-score: 0.4144144144144144\n",
            "Average Accuracy: 0.8\n",
            "Classifier: GaussianNB\n",
            "Average AUC: 0.6726237234878241\n",
            "Average F1-score: 0.35555555555555557\n",
            "Average Accuracy: 0.8215384615384616\n",
            "Classifier: SGDClassifier\n",
            "Average AUC: 0.7228986645718775\n",
            "Average F1-score: 0.4036697247706422\n",
            "Average Accuracy: 0.8\n",
            "Classifier: KNeighborsClassifier\n",
            "Average AUC: 0.6198612202147159\n",
            "Average F1-score: 0.12307692307692308\n",
            "Average Accuracy: 0.8246153846153846\n",
            "Classifier: DecisionTreeClassifier\n",
            "Average AUC: 0.5756087981146897\n",
            "Average F1-score: 0.29411764705882354\n",
            "Average Accuracy: 0.7784615384615384\n",
            "Classifier: SVC\n",
            "Average AUC: 0.7482325216025137\n",
            "Average F1-score: 0.12903225806451613\n",
            "Average Accuracy: 0.8338461538461538\n",
            "Classifier: RandomForestClassifier\n",
            "Average AUC: 0.7027035873265253\n",
            "Average F1-score: 0.26666666666666666\n",
            "Average Accuracy: 0.8307692307692308\n"
          ]
        },
        {
          "output_type": "display_data",
          "data": {
            "text/plain": [
              "<Figure size 2000x500 with 9 Axes>"
            ],
            "image/png": "[encoded data removed]"
          },
          "metadata": {}
        }
      ]
    },
    {
      "cell_type": "markdown",
      "source": [
        "## **Try classifiers**"
      ],
      "metadata": {
        "id": "e_mWYQmLGLG7"
      }
    },
    {
      "cell_type": "markdown",
      "source": [
        "### Colorplot def"
      ],
      "metadata": {
        "id": "qXGb8CzmZdSr"
      }
    },
    {
      "cell_type": "code",
      "source": [
        "def colorplot(clf, ax, x, y, h=100):\n",
        "    '''\n",
        "    Overlay the decision areas as colors in an axes.\n",
        "\n",
        "    Input:\n",
        "        clf: trained classifier\n",
        "        ax: axis to overlay color mesh on\n",
        "        x: feature on x-axis\n",
        "        y: feature on y-axis\n",
        "        h(optional): steps in the mesh\n",
        "    '''\n",
        "    # Create a meshgrid the size of the axis\n",
        "    xstep = (x.max() - x.min() ) / 20.0\n",
        "    ystep = (y.max() - y.min() ) / 20.0\n",
        "    x_min, x_max = x.min() - xstep, x.max() + xstep\n",
        "    y_min, y_max = y.min() - ystep, y.max() + ystep\n",
        "    h = max((x_max - x_min, y_max - y_min))/h\n",
        "    xx, yy = np.meshgrid(np.arange(x_min, x_max, h),\n",
        "                         np.arange(y_min, y_max, h))\n",
        "\n",
        "    # Plot the decision boundary. For that, we will assign a color to each\n",
        "    # point in the mesh [x_min, x_max]x[y_min, y_max].\n",
        "    if hasattr(clf, \"decision_function\"):\n",
        "        Z = clf.decision_function(np.c_[xx.ravel(), yy.ravel()])\n",
        "    else:\n",
        "        Z = clf.predict_proba(np.c_[xx.ravel(), yy.ravel()])\n",
        "    if len(Z.shape) > 1:\n",
        "        Z = Z[:, 1]\n",
        "\n",
        "    # Put the result into a color plot\n",
        "    cm = plt.cm.RdBu_r\n",
        "    Z = Z.reshape(xx.shape)\n",
        "    ax.contourf(xx, yy, Z, cmap=cm, alpha=.8)\n",
        "    del xx, yy, x_min, x_max, y_min, y_max, Z, cm"
      ],
      "metadata": {
        "id": "yB7Eaxk_ZbuD"
      },
      "execution_count": null,
      "outputs": []
    },
    {
      "cell_type": "markdown",
      "source": [
        "### Loop over different classfiers"
      ],
      "metadata": {
        "id": "RNKTDHw0iWBU"
      }
    },
    {
      "cell_type": "code",
      "source": [
        "svmlin = SVC(kernel='linear', gamma='scale')\n",
        "svmrbf = SVC(kernel='rbf', gamma='scale')\n",
        "svmpoly = SVC(kernel='poly', degree=3, gamma='scale')\n",
        "svmsig = SVC(kernel='sigmoid', gamma='scale')\n",
        "\n",
        "clfs = [LinearDiscriminantAnalysis(), QuadraticDiscriminantAnalysis(),\n",
        "        LogisticRegression(), GaussianNB(), SGDClassifier(),\n",
        "        KNeighborsClassifier(), DecisionTreeClassifier(),\n",
        "        svmlin, svmrbf, svmpoly, svmsig]\n",
        "\n",
        "for clf in clfs:\n",
        "  start_time = time.time()\n",
        "  clf = clf.fit(data_train, label_train)\n",
        "  y_pred = clf.predict(data_train)\n",
        "  t = (\"Misclassified: %d / %d\" % ((label_train != y_pred).sum(), data_train.shape[0]))\n",
        "  end_time = time.time()\n",
        "  runtime = end_time - start_time\n",
        "  print(f\"Clf: {clf}, {t}\")\n",
        "  print(f\"Runtime: {runtime:.2f} seconds\")"
      ],
      "metadata": {
        "id": "MnnqPnbqgT_H",
        "outputId": "c6337713-744f-43bb-f249-dc801ed50546",
        "colab": {
          "base_uri": "https://localhost:8080/"
        }
      },
      "execution_count": null,
      "outputs": [
        {
          "output_type": "stream",
          "name": "stdout",
          "text": [
            "Clf: LinearDiscriminantAnalysis(), Misclassified: 37 / 661\n",
            "Runtime: 2.56 seconds\n"
          ]
        },
        {
          "output_type": "stream",
          "name": "stderr",
          "text": [
            "/usr/local/lib/python3.11/dist-packages/sklearn/discriminant_analysis.py:1024: LinAlgWarning: The covariance matrix of class 0 is not full rank. Increasing the value of parameter `reg_param` might help reducing the collinearity.\n",
            "  warnings.warn(\n",
            "/usr/local/lib/python3.11/dist-packages/sklearn/discriminant_analysis.py:1024: LinAlgWarning: The covariance matrix of class 1 is not full rank. Increasing the value of parameter `reg_param` might help reducing the collinearity.\n",
            "  warnings.warn(\n"
          ]
        },
        {
          "output_type": "stream",
          "name": "stdout",
          "text": [
            "Clf: QuadraticDiscriminantAnalysis(), Misclassified: 0 / 661\n",
            "Runtime: 2.70 seconds\n"
          ]
        },
        {
          "output_type": "stream",
          "name": "stderr",
          "text": [
            "/usr/local/lib/python3.11/dist-packages/sklearn/linear_model/_logistic.py:465: ConvergenceWarning: lbfgs failed to converge (status=1):\n",
            "STOP: TOTAL NO. of ITERATIONS REACHED LIMIT.\n",
            "\n",
            "Increase the number of iterations (max_iter) or scale the data as shown in:\n",
            "    https://scikit-learn.org/stable/modules/preprocessing.html\n",
            "Please also refer to the documentation for alternative solver options:\n",
            "    https://scikit-learn.org/stable/modules/linear_model.html#logistic-regression\n",
            "  n_iter_i = _check_optimize_result(\n"
          ]
        },
        {
          "output_type": "stream",
          "name": "stdout",
          "text": [
            "Clf: LogisticRegression(), Misclassified: 0 / 661\n",
            "Runtime: 1.28 seconds\n",
            "Clf: GaussianNB(), Misclassified: 509 / 661\n",
            "Runtime: 0.33 seconds\n",
            "Clf: SGDClassifier(), Misclassified: 35 / 661\n",
            "Runtime: 0.60 seconds\n",
            "Clf: KNeighborsClassifier(), Misclassified: 102 / 661\n",
            "Runtime: 0.53 seconds\n",
            "Clf: DecisionTreeClassifier(), Misclassified: 0 / 661\n",
            "Runtime: 13.04 seconds\n",
            "Clf: SVC(kernel='linear'), Misclassified: 0 / 661\n",
            "Runtime: 2.69 seconds\n",
            "Clf: SVC(), Misclassified: 103 / 661\n",
            "Runtime: 4.32 seconds\n",
            "Clf: SVC(kernel='poly'), Misclassified: 96 / 661\n",
            "Runtime: 2.73 seconds\n",
            "Clf: SVC(kernel='sigmoid'), Misclassified: 135 / 661\n",
            "Runtime: 2.34 seconds\n"
          ]
        }
      ]
    },
    {
      "cell_type": "markdown",
      "source": [
        "### Linear"
      ],
      "metadata": {
        "id": "4WEiorBkSt1F"
      }
    },
    {
      "cell_type": "code",
      "source": [
        "start_time = time.time()\n",
        "lda = LinearDiscriminantAnalysis()\n",
        "lda = lda.fit(data_train, label_train)\n",
        "y_pred_lda = lda.predict(data_train)\n",
        "t = (\"Misclassified: %d / %d\" % ((label_train != y_pred_lda).sum(), data_train.shape[0]))\n",
        "end_time = time.time()\n",
        "runtime = end_time - start_time\n",
        "print(t)\n",
        "print(f\"Runtime: {runtime:.2f} seconds\")"
      ],
      "metadata": {
        "id": "ekrKhar-ZAKg",
        "colab": {
          "base_uri": "https://localhost:8080/"
        },
        "outputId": "3a9ff11c-a0d8-4eff-b5e0-a736591df277"
      },
      "execution_count": null,
      "outputs": [
        {
          "output_type": "stream",
          "name": "stdout",
          "text": [
            "Misclassified: 37 / 661\n",
            "Runtime: 4.36 seconds\n"
          ]
        }
      ]
    },
    {
      "cell_type": "markdown",
      "source": [
        "### Quadratic"
      ],
      "metadata": {
        "id": "tuM_s8VNS28B"
      }
    },
    {
      "cell_type": "code",
      "source": [
        "start_time = time.time()\n",
        "qda = QuadraticDiscriminantAnalysis()\n",
        "qda = qda.fit(data_train, label_train)\n",
        "y_pred_qda = qda.predict(data_train)\n",
        "t = (\"Misclassified: %d / %d\" % ((label_train != y_pred_qda).sum(), data_train.shape[0]))\n",
        "print(t)"
      ],
      "metadata": {
        "id": "GtUxvny3S-bp",
        "colab": {
          "base_uri": "https://localhost:8080/"
        },
        "outputId": "b072e386-ce79-4efc-f91c-7bc7988632f0"
      },
      "execution_count": null,
      "outputs": [
        {
          "output_type": "stream",
          "name": "stderr",
          "text": [
            "/usr/local/lib/python3.11/dist-packages/sklearn/discriminant_analysis.py:1024: LinAlgWarning: The covariance matrix of class 0 is not full rank. Increasing the value of parameter `reg_param` might help reducing the collinearity.\n",
            "  warnings.warn(\n",
            "/usr/local/lib/python3.11/dist-packages/sklearn/discriminant_analysis.py:1024: LinAlgWarning: The covariance matrix of class 1 is not full rank. Increasing the value of parameter `reg_param` might help reducing the collinearity.\n",
            "  warnings.warn(\n"
          ]
        },
        {
          "output_type": "stream",
          "name": "stdout",
          "text": [
            "Misclassified: 0 / 661\n"
          ]
        }
      ]
    },
    {
      "cell_type": "code",
      "source": [
        "y_pred_qda_test = qda.predict(data_test)\n",
        "t = (\"Misclassified: %d / %d\" % ((label_test != y_pred_qda_test).sum(), data_train.shape[0]))\n",
        "print(t)"
      ],
      "metadata": {
        "id": "dr6oCn-ji1Ws",
        "colab": {
          "base_uri": "https://localhost:8080/"
        },
        "outputId": "0fe1f198-e2ce-4a60-c970-2ba859a9c4ed"
      },
      "execution_count": null,
      "outputs": [
        {
          "output_type": "stream",
          "name": "stdout",
          "text": [
            "Misclassified: 67 / 661\n"
          ]
        }
      ]
    },
    {
      "cell_type": "markdown",
      "source": [
        "### tNN"
      ],
      "metadata": {
        "id": "xtpg4KpSS5ci"
      }
    },
    {
      "cell_type": "code",
      "source": [
        "start_time = time.time()\n",
        "NN = KNeighborsClassifier(n_neighbors=1)\n",
        "NN = NN.fit(data_train, label_train)\n",
        "y_pred_nn = NN.predict(data_train)\n",
        "t = (\"Misclassified: %d / %d\" % ((label_train != y_pred_nn).sum(), data_train.shape[0]))\n",
        "end_time = time.time()\n",
        "runtime = end_time - start_time\n",
        "print(t)\n",
        "print(f\"Runtime: {runtime:.2f} seconds\")"
      ],
      "metadata": {
        "id": "J4w82KypS_Z9",
        "colab": {
          "base_uri": "https://localhost:8080/"
        },
        "outputId": "a528000f-2fe6-4dca-f87d-765a7a1e82e0"
      },
      "execution_count": null,
      "outputs": [
        {
          "output_type": "stream",
          "name": "stdout",
          "text": [
            "Misclassified: 0 / 661\n",
            "Runtime: 0.53 seconds\n"
          ]
        }
      ]
    },
    {
      "cell_type": "markdown",
      "source": [
        "### Decision tree"
      ],
      "metadata": {
        "id": "KtAaK13YS_6e"
      }
    },
    {
      "cell_type": "code",
      "source": [
        "start_time = time.time()\n",
        "dt = DecisionTreeClassifier()\n",
        "dt = dt.fit(data_train, label_train)\n",
        "y_pred_dt = dt.predict(data_train)\n",
        "t = (\"Misclassified: %d / %d\" % ((label_train != y_pred_dt).sum(), data_train.shape[0]))\n",
        "end_time = time.time()\n",
        "runtime = end_time - start_time\n",
        "print(t)\n",
        "print(f\"Runtime: {runtime:.2f} seconds\")"
      ],
      "metadata": {
        "id": "TADod5EHTDY6",
        "colab": {
          "base_uri": "https://localhost:8080/"
        },
        "outputId": "12fd9d37-5f9c-489e-c4bc-607f3c3f90b1"
      },
      "execution_count": null,
      "outputs": [
        {
          "output_type": "stream",
          "name": "stdout",
          "text": [
            "Misclassified: 0 / 661\n",
            "Runtime: 13.88 seconds\n"
          ]
        }
      ]
    },
    {
      "cell_type": "markdown",
      "source": [
        "### SVM"
      ],
      "metadata": {
        "id": "1zWrp23-THeS"
      }
    },
    {
      "cell_type": "code",
      "source": [
        "start_time = time.time()\n",
        "svm = SVC()\n",
        "svm = svm.fit(data_train, label_train)\n",
        "y_pred_svm = svm.predict(data_train)\n",
        "t = (\"Misclassified: %d / %d\" % ((label_train != y_pred_svm).sum(), data_train.shape[0]))\n",
        "end_time = time.time()\n",
        "runtime = end_time - start_time\n",
        "print(t)\n",
        "print(f\"Runtime: {runtime:.2f} seconds\")"
      ],
      "metadata": {
        "id": "_r1Prolph7Lb",
        "colab": {
          "base_uri": "https://localhost:8080/"
        },
        "outputId": "a87b0566-a99f-4470-b72d-5625ff857d75"
      },
      "execution_count": null,
      "outputs": [
        {
          "output_type": "stream",
          "name": "stdout",
          "text": [
            "Misclassified: 103 / 661\n",
            "Runtime: 4.09 seconds\n"
          ]
        }
      ]
    },
    {
      "cell_type": "code",
      "source": [
        "svmlin = SVC(kernel='linear', gamma='scale')\n",
        "svmrbf = SVC(kernel='rbf', gamma='scale')\n",
        "svmpoly = SVC(kernel='poly', degree=3, gamma='scale')\n",
        "svmsig = SVC(kernel='sigmoid', gamma='scale')\n",
        "\n",
        "clfs = [svmlin, svmrbf, svmpoly, svmsig]\n",
        "\n",
        "# Make plot without classifiers:\n",
        "num = 0\n",
        "fig = plt.figure(figsize=(15,15))\n",
        "\n",
        "for clf in clfs:\n",
        "  start_time = time.time()\n",
        "  clf = clf.fit(data_train, label_train)\n",
        "  y_pred = clf.predict(data_train)\n",
        "  t = (\"Misclassified: %d / %d\" % ((label_train != y_pred).sum(), data_train.shape[0]))\n",
        "  end_time = time.time()\n",
        "  runtime = end_time - start_time\n",
        "  print(f\"Clf: {clf}, {t}\")\n",
        "  print(f\"Runtime: {runtime:.2f} seconds\")\n",
        "\n",
        "  # For plotting, only works using 2 features\n",
        "  # ax = fig.add_subplot(3, 2, num + 1)\n",
        "  # x = data_train.iloc[:, 0]\n",
        "  # y = data_train.iloc[:, 1]\n",
        "  # ax.scatter(x, y, marker='o', c=label_train,\n",
        "  #     s=25, edgecolor='k', cmap=plt.cm.Paired)\n",
        "  # colorplot(clf, ax, x, y)\n",
        "  # ax.set_title(f\"Clf: {clf}, {t}\")\n",
        "  # num += 1"
      ],
      "metadata": {
        "id": "JtP642PYnetL",
        "colab": {
          "base_uri": "https://localhost:8080/",
          "height": 173
        },
        "outputId": "161aa909-b147-4477-aef9-9966f258e812"
      },
      "execution_count": null,
      "outputs": [
        {
          "output_type": "stream",
          "name": "stdout",
          "text": [
            "Clf: SVC(kernel='linear'), Misclassified: 0 / 661\n",
            "Runtime: 2.62 seconds\n",
            "Clf: SVC(), Misclassified: 103 / 661\n",
            "Runtime: 4.07 seconds\n",
            "Clf: SVC(kernel='poly'), Misclassified: 96 / 661\n",
            "Runtime: 2.55 seconds\n",
            "Clf: SVC(kernel='sigmoid'), Misclassified: 135 / 661\n",
            "Runtime: 2.01 seconds\n"
          ]
        },
        {
          "output_type": "display_data",
          "data": {
            "text/plain": [
              "<Figure size 1500x1500 with 0 Axes>"
            ]
          },
          "metadata": {}
        }
      ]
    },
    {
      "cell_type": "code",
      "source": [
        "## Colorplot only using two features to see what the SVC's do\n",
        "\n",
        "svmlin = SVC(kernel='linear', gamma='scale')\n",
        "svmrbf = SVC(kernel='rbf', gamma='scale')\n",
        "svmpoly = SVC(kernel='poly', degree=2, gamma='scale')\n",
        "svmsig = SVC(kernel='sigmoid', gamma='scale')\n",
        "\n",
        "clfs = [svmlin, svmrbf, svmpoly, svmsig]\n",
        "\n",
        "# # Make plot without classifiers:\n",
        "# num = 0\n",
        "# fig = plt.figure(figsize=(8,15))\n",
        "\n",
        "# Loop over classifiers\n",
        "for clf in clfs:\n",
        "  start_time = time.time()\n",
        "  x = data_train.iloc[:, 100:102]\n",
        "  clf = clf.fit(x, label_train)\n",
        "  y_pred = clf.predict(x)\n",
        "  t = (\"Misclassified: %d / %d\" % ((label_train != y_pred).sum(), data_train.shape[0]))\n",
        "  end_time = time.time()\n",
        "  runtime = end_time - start_time\n",
        "  print(f\"Clf: {clf}, {t}\")\n",
        "  print(f\"Runtime: {runtime:.2f} seconds\")\n",
        "\n",
        "  # # Plotting colorplot\n",
        "  # ax = fig.add_subplot(4, 1, num + 1)\n",
        "  # ax.scatter(x.iloc[:,0], x.iloc[:,1], marker='o', c=label_train,\n",
        "  #     s=25, edgecolor='k', cmap=plt.cm.Paired)\n",
        "  # colorplot(clf, ax, x.iloc[:,0], x.iloc[:,1])\n",
        "  # ax.set_title(f\"Clf: {clf}, {t}\")\n",
        "  # num += 1"
      ],
      "metadata": {
        "id": "41gwKlOWoHwu",
        "colab": {
          "base_uri": "https://localhost:8080/"
        },
        "outputId": "a14fe704-8dab-4a17-92e2-6f88b7a80c10"
      },
      "execution_count": null,
      "outputs": [
        {
          "output_type": "stream",
          "name": "stdout",
          "text": [
            "Clf: SVC(kernel='linear'), Misclassified: 117 / 661\n",
            "Runtime: 30.44 seconds\n",
            "Clf: SVC(), Misclassified: 117 / 661\n",
            "Runtime: 0.04 seconds\n",
            "Clf: SVC(degree=2, kernel='poly'), Misclassified: 117 / 661\n",
            "Runtime: 0.02 seconds\n",
            "Clf: SVC(kernel='sigmoid'), Misclassified: 156 / 661\n",
            "Runtime: 0.03 seconds\n"
          ]
        }
      ]
    },
    {
      "cell_type": "markdown",
      "source": [
        "### Random Forest"
      ],
      "metadata": {
        "id": "QoyFivsJS790"
      }
    },
    {
      "cell_type": "code",
      "source": [
        "n_trees = [1, 5, 10, 50, 100]\n",
        "\n",
        "# # Make plot without classifiers:\n",
        "# num = 0\n",
        "# fig = plt.figure(figsize=(15,15))\n",
        "\n",
        "# Now use the classifiers on all datasets\n",
        "for n_tree in n_trees:\n",
        "  start_time = time.time()\n",
        "  rf = RandomForestClassifier(n_estimators=n_tree) # Om vast te zetten: random_state=42\n",
        "  rf.fit(data_train, label_train)\n",
        "  y_pred_rf = rf.predict(data_train)\n",
        "  t = (\"Misclassified: %d / %d\" % ((label_train != y_pred_rf).sum(), data_train.shape[0]))\n",
        "  end_time = time.time()\n",
        "  runtime = end_time - start_time\n",
        "  print(f\"Tree: {n_tree}, {t}, Runtime: {runtime:.2f} seconds\")\n",
        "\n",
        "  ## For plotting, only works using 2 features\n",
        "  # ax = fig.add_subplot(3, 2, num + 1)\n",
        "  # x = data_train.iloc[:, 0]\n",
        "  # y = data_train.iloc[:, 1]\n",
        "  # ax.scatter(x, y, marker='o', c=label_train,\n",
        "  #     s=25, edgecolor='k', cmap=plt.cm.Paired)\n",
        "  # colorplot(clf, ax, x, y)\n",
        "  # ax.set_title(f\"Tree: {n_tree}, {t}\")\n",
        "  # num += 1"
      ],
      "metadata": {
        "id": "BJgRc771THLa",
        "colab": {
          "base_uri": "https://localhost:8080/"
        },
        "outputId": "ffc55d64-0a50-451e-d023-f386c40054ee"
      },
      "execution_count": null,
      "outputs": [
        {
          "output_type": "stream",
          "name": "stdout",
          "text": [
            "Tree: 1, Misclassified: 56 / 661, Runtime: 0.31 seconds\n",
            "Tree: 5, Misclassified: 10 / 661, Runtime: 0.64 seconds\n",
            "Tree: 10, Misclassified: 18 / 661, Runtime: 0.93 seconds\n",
            "Tree: 50, Misclassified: 0 / 661, Runtime: 4.07 seconds\n",
            "Tree: 100, Misclassified: 0 / 661, Runtime: 8.73 seconds\n"
          ]
        }
      ]
    },
    {
      "cell_type": "markdown",
      "source": [
        "### XGBoost"
      ],
      "metadata": {
        "id": "7ZBzt9heTKIi"
      }
    },
    {
      "cell_type": "code",
      "source": [
        "# xgb = XGBClassifier(n_estimators=100, random_state=42)\n",
        "# xgb.fit(data_train, label_train)\n",
        "# y_pred_XGB = clf.predict(data_train)\n",
        "# t = (\"Misclassified: %d / %d\" % ((label_train != y_pred_XGB).sum(), data_train.shape[0]))"
      ],
      "metadata": {
        "id": "ux4N2sCgTMJy"
      },
      "execution_count": null,
      "outputs": []
    },
    {
      "cell_type": "code",
      "source": [
        "n_est = [1, 5, 10, 50, 100]\n",
        "\n",
        "for n in n_est:\n",
        "  start_time = time.time()\n",
        "  xgb = XGBClassifier(n_estimators=100, random_state=42)\n",
        "  xgb.fit(data_train, label_train)\n",
        "  y_pred_xgb = xgb.predict(data_train)\n",
        "  t = (\"Misclassified: %d / %d\" % ((label_train != y_pred_xgb).sum(), data_train.shape[0]))\n",
        "  end_time = time.time()\n",
        "  runtime = end_time - start_time\n",
        "  print(f\"Tree: {n}, {t}, Runtime: {runtime:.2f} seconds\")"
      ],
      "metadata": {
        "id": "sno4fE6PdhEa",
        "colab": {
          "base_uri": "https://localhost:8080/"
        },
        "outputId": "023b269b-2865-4797-cf6b-5f652a985bab"
      },
      "execution_count": null,
      "outputs": [
        {
          "output_type": "stream",
          "name": "stdout",
          "text": [
            "Tree: 1, Misclassified: 0 / 661, Runtime: 64.34 seconds\n",
            "Tree: 5, Misclassified: 0 / 661, Runtime: 49.62 seconds\n",
            "Tree: 10, Misclassified: 0 / 661, Runtime: 49.57 seconds\n",
            "Tree: 50, Misclassified: 0 / 661, Runtime: 52.15 seconds\n",
            "Tree: 100, Misclassified: 0 / 661, Runtime: 49.89 seconds\n"
          ]
        }
      ]
    },
    {
      "cell_type": "markdown",
      "source": [
        "## Ensembling"
      ],
      "metadata": {
        "id": "bQxFbt3N4gQd"
      }
    },
    {
      "cell_type": "markdown",
      "source": [
        "### Voting"
      ],
      "metadata": {
        "id": "2tTlcEH4qBnt"
      }
    },
    {
      "cell_type": "code",
      "source": [
        "voting_ensemble_soft = VotingClassifier(\n",
        "    estimators=[('KNN', KNeighborsClassifier()), ('tree', DecisionTreeClassifier()), ('rf', RandomForestClassifier())],\n",
        "    voting='soft')\n",
        "voting_ensemble_hard = VotingClassifier(\n",
        "    estimators=[('KNN', KNeighborsClassifier()), ('tree', DecisionTreeClassifier()), ('rf', RandomForestClassifier())],\n",
        "    voting='hard')\n",
        "\n",
        "ves = voting_ensemble_soft.fit(data_train, label_train)\n",
        "y_pred_ves = ves.predict(data_train)\n",
        "t = (\"Misclassified: %d / %d\" % ((label_train != y_pred_ves).sum(), data_train.shape[0]))\n",
        "print(t)\n",
        "\n",
        "veh = voting_ensemble_hard.fit(data_train, label_train)\n",
        "y_pred_veh = veh.predict(data_train)\n",
        "t = (\"Misclassified: %d / %d\" % ((label_train != y_pred_veh).sum(), data_train.shape[0]))\n",
        "print(t)\n"
      ],
      "metadata": {
        "id": "DIbaSNS04o1S",
        "colab": {
          "base_uri": "https://localhost:8080/"
        },
        "outputId": "2bf6c87f-918a-4679-947b-982d21d3284a"
      },
      "execution_count": null,
      "outputs": [
        {
          "output_type": "stream",
          "name": "stdout",
          "text": [
            "Misclassified: 0 / 661\n",
            "Misclassified: 0 / 661\n"
          ]
        }
      ]
    },
    {
      "cell_type": "markdown",
      "source": [
        "### Averaging"
      ],
      "metadata": {
        "id": "nPW8Y2mpqEvH"
      }
    },
    {
      "cell_type": "code",
      "source": [
        "class AveragingClassifier(BaseEstimator, ClassifierMixin):\n",
        "    def __init__(self, estimators):\n",
        "        self.estimators = estimators\n",
        "\n",
        "    def fit(self, X, y):\n",
        "        for name, estimator in self.estimators: # Unpack the tuple into name and estimator\n",
        "            estimator.fit(X, y)\n",
        "        return self\n",
        "\n",
        "    def predict_proba(self, X):\n",
        "        # Get probability predictions from each classifier\n",
        "        proba = np.stack([estimator.predict_proba(X) for name, estimator in self.estimators])\n",
        "\n",
        "        # Average the probabilities\n",
        "        averaged_proba = np.mean(proba, axis=0)\n",
        "        return averaged_proba\n",
        "\n",
        "    def predict(self, X):\n",
        "        # Get class predictions based on averaged probabilities\n",
        "        averaged_proba = self.predict_proba(X)\n",
        "        predictions = np.argmax(averaged_proba, axis=1)\n",
        "        return predictions"
      ],
      "metadata": {
        "id": "7dUuvOaXqHP1"
      },
      "execution_count": null,
      "outputs": []
    },
    {
      "cell_type": "code",
      "source": [
        "averaging = AveragingClassifier(\n",
        "    estimators=[('KNN', KNeighborsClassifier()), ('tree', DecisionTreeClassifier()), ('rf', RandomForestClassifier())])\n",
        "averaging = averaging.fit(data_train, label_train)\n",
        "y_pred_averaging = averaging.predict(data_train)\n",
        "t = (\"Misclassified: %d / %d\" % ((label_train != y_pred_averaging).sum(), data_train.shape[0]))\n",
        "print(t)"
      ],
      "metadata": {
        "id": "RCirbC4Vvc0p",
        "colab": {
          "base_uri": "https://localhost:8080/"
        },
        "outputId": "55342e61-29ee-484a-c5e9-dd43e4a0b941"
      },
      "execution_count": null,
      "outputs": [
        {
          "output_type": "stream",
          "name": "stdout",
          "text": [
            "Misclassified: 0 / 661\n"
          ]
        }
      ]
    },
    {
      "cell_type": "markdown",
      "source": [
        "### Stacking (duurt ~1 min om te runnen)"
      ],
      "metadata": {
        "id": "dOAP9XjAqDtU"
      }
    },
    {
      "cell_type": "code",
      "source": [
        "# Stacking allows to use the strength of each individual estimator by using\n",
        "# their output as input of a final estimator\n",
        "\n",
        "stacking = StackingClassifier(\n",
        "    estimators=[('KNN', KNeighborsClassifier()), ('tree', DecisionTreeClassifier()), ('rf', RandomForestClassifier())],\n",
        "    )\n",
        "stacking = stacking.fit(data_train, label_train)\n",
        "y_pred_stacking = stacking.predict(data_train)\n",
        "t = (\"Misclassified: %d / %d\" % ((label_train != y_pred_stacking).sum(), data_train.shape[0]))\n",
        "print(t)"
      ],
      "metadata": {
        "id": "qDdYF29oqL-L",
        "colab": {
          "base_uri": "https://localhost:8080/"
        },
        "outputId": "c0195ce3-ec4a-4916-cd22-3cc3b9e6bdda"
      },
      "execution_count": null,
      "outputs": [
        {
          "output_type": "stream",
          "name": "stdout",
          "text": [
            "Misclassified: 0 / 661\n"
          ]
        }
      ]
    },
    {
      "cell_type": "markdown",
      "source": [
        "### Selection + voting/averaging"
      ],
      "metadata": {
        "id": "Kp0YMXoXqOqw"
      }
    },
    {
      "cell_type": "code",
      "source": [],
      "metadata": {
        "id": "yAmOcVjxqR0T"
      },
      "execution_count": null,
      "outputs": []
    },
    {
      "cell_type": "markdown",
      "source": [
        "**Performance Metrics**"
      ],
      "metadata": {
        "id": "dWv1oLUEyhFf"
      }
    },
    {
      "cell_type": "code",
      "source": [
        "#   # Get prediction scores (if available) for AUC calculation\n",
        "# clfs = [LinearDiscriminantAnalysis(), QuadraticDiscriminantAnalysis(),\n",
        "#         LogisticRegression(), GaussianNB(), SGDClassifier(),\n",
        "#         KNeighborsClassifier(), DecisionTreeClassifier(),\n",
        "#         svmlin, svmrbf, svmpoly, svmsig]\n",
        "\n",
        "# for clf in clfs:  # Iterate through each classifier\n",
        "#     clf.fit(data_train, label_train)\n",
        "#     y_pred = clf.predict(data_train)\n",
        "\n",
        "#     if hasattr(clf, 'predict_proba'):\n",
        "#         y_score = clf.predict_proba(data_train)[:, 1]\n",
        "#     else:\n",
        "#         y_score = y_pred\n",
        "\n",
        "#     # Calculate metrics for the current classifier inside the loop\n",
        "#     auc = metrics.roc_auc_score(label_train, y_score)\n",
        "#     f1 = metrics.f1_score(label_train, y_pred)\n",
        "\n",
        "#     # Print the results for the current classifier\n",
        "#     print(f\"Classifier: {clf.__class__.__name__}\")\n",
        "#     print(\"AUC:\", auc)\n",
        "#     print(\"F1-score:\", f1)"
      ],
      "metadata": {
        "id": "fYFMGu1Dynug"
      },
      "execution_count": null,
      "outputs": []
    }
  ],
  "metadata": {
    "colab": {
      "name": "assignment.ipynb",
      "provenance": []
    },
    "kernelspec": {
      "display_name": "Python 3",
      "language": "python",
      "name": "python3"
    },
    "language_info": {
      "codemirror_mode": {
        "name": "ipython",
        "version": 3
      },
      "file_extension": ".py",
      "mimetype": "text/x-python",
      "name": "python",
      "nbconvert_exporter": "python",
      "pygments_lexer": "ipython3",
      "version": "3.8.5"
    }
  },
  "nbformat": 4,
  "nbformat_minor": 0
}